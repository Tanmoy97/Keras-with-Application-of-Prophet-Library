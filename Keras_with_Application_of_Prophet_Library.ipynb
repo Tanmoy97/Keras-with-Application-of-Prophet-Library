{
  "nbformat": 4,
  "nbformat_minor": 0,
  "metadata": {
    "colab": {
      "name": "Keras with Application of Prophet Library.ipynb",
      "provenance": []
    },
    "kernelspec": {
      "name": "python3",
      "display_name": "Python 3"
    }
  },
  "cells": [
    {
      "cell_type": "code",
      "metadata": {
        "id": "CMg8avHyIw4p",
        "colab_type": "code",
        "colab": {
          "base_uri": "https://localhost:8080/",
          "height": 35
        },
        "outputId": "69a1e3f0-8e66-454d-dd35-dda48d5c5a61"
      },
      "source": [
        "import keras \n",
        "import matplotlib.pyplot as plt\n",
        "import pandas as pd\n",
        "import numpy as np"
      ],
      "execution_count": null,
      "outputs": [
        {
          "output_type": "stream",
          "text": [
            "Using TensorFlow backend.\n"
          ],
          "name": "stderr"
        }
      ]
    },
    {
      "cell_type": "markdown",
      "metadata": {
        "id": "12Rogs87M04G",
        "colab_type": "text"
      },
      "source": [
        "Lets Create one Simple Data y = mx + c + noise data"
      ]
    },
    {
      "cell_type": "code",
      "metadata": {
        "id": "s5t96AYoNDB6",
        "colab_type": "code",
        "colab": {}
      },
      "source": [
        "x= 2\n",
        "c=3\n",
        "x=np.linspace(0,50,100)\n",
        "\n",
        "# How to Create a Noise \n",
        "\n",
        "np.random.seed(101)\n",
        "noise=np.random.normal(loc=0.0,scale=4.0,size=len(x))"
      ],
      "execution_count": null,
      "outputs": []
    },
    {
      "cell_type": "code",
      "metadata": {
        "id": "FimOQPmONhGg",
        "colab_type": "code",
        "colab": {}
      },
      "source": [
        "y = 2*x + c + noise"
      ],
      "execution_count": null,
      "outputs": []
    },
    {
      "cell_type": "code",
      "metadata": {
        "id": "rCaYw_ncNniu",
        "colab_type": "code",
        "colab": {
          "base_uri": "https://localhost:8080/",
          "height": 283
        },
        "outputId": "11575ee5-58c4-4f65-a045-e2726ff5fa7d"
      },
      "source": [
        "plt.plot(x,y,'*')"
      ],
      "execution_count": null,
      "outputs": [
        {
          "output_type": "execute_result",
          "data": {
            "text/plain": [
              "[<matplotlib.lines.Line2D at 0x7fcbeba7b550>]"
            ]
          },
          "metadata": {
            "tags": []
          },
          "execution_count": 5
        },
        {
          "output_type": "display_data",
          "data": {
            "image/png": "[encoded data removed]",
            "text/plain": [
              "<Figure size 432x288 with 1 Axes>"
            ]
          },
          "metadata": {
            "tags": [],
            "needs_background": "light"
          }
        }
      ]
    },
    {
      "cell_type": "markdown",
      "metadata": {
        "id": "rDdXxooZNxuK",
        "colab_type": "text"
      },
      "source": [
        "Create a Neural network for a Line; To Create Neural Network \n",
        "input_dim= Dimension of the Equation\n",
        "RELU= Activation Function\n",
        "Linear= Unit Function\n",
        "Dense= API ( Application Programming Interface) \n",
        "Support Tensor Flow 2.2.0"
      ]
    },
    {
      "cell_type": "code",
      "metadata": {
        "id": "2RJ1Z2v7OtbZ",
        "colab_type": "code",
        "colab": {}
      },
      "source": [
        "from keras.models import Sequential\n",
        "from keras.layers import Dense"
      ],
      "execution_count": null,
      "outputs": []
    },
    {
      "cell_type": "code",
      "metadata": {
        "id": "QZV2J1ocOtPZ",
        "colab_type": "code",
        "colab": {}
      },
      "source": [
        "model = Sequential()\n",
        "\n",
        "# 4 Neuron , expecting only one Feature so input_dim=1\n",
        "\n",
        "model.add(Dense(4,input_dim=1,activation='relu'))\n",
        "\n",
        "#4 Neurons which can work with this number\n",
        "\n",
        "model.add(Dense(4,activation='relu'))\n",
        "\n",
        "#We need One Final Or Last Output of y\n",
        "\n",
        "model.add(Dense(1,activation='linear'))\n",
        "\n",
        "# We need to Complie the Code\n",
        "\n",
        "model.compile(loss='mse',optimizer='adam')"
      ],
      "execution_count": null,
      "outputs": []
    },
    {
      "cell_type": "code",
      "metadata": {
        "id": "DR1GrNZmPvjJ",
        "colab_type": "code",
        "colab": {
          "base_uri": "https://localhost:8080/",
          "height": 272
        },
        "outputId": "7998e8f3-e101-49da-cab1-ca52daf4e5d8"
      },
      "source": [
        "model.summary()"
      ],
      "execution_count": null,
      "outputs": [
        {
          "output_type": "stream",
          "text": [
            "Model: \"sequential_1\"\n",
            "_________________________________________________________________\n",
            "Layer (type)                 Output Shape              Param #   \n",
            "=================================================================\n",
            "dense_1 (Dense)              (None, 4)                 8         \n",
            "_________________________________________________________________\n",
            "dense_2 (Dense)              (None, 4)                 20        \n",
            "_________________________________________________________________\n",
            "dense_3 (Dense)              (None, 1)                 5         \n",
            "=================================================================\n",
            "Total params: 33\n",
            "Trainable params: 33\n",
            "Non-trainable params: 0\n",
            "_________________________________________________________________\n"
          ],
          "name": "stdout"
        }
      ]
    },
    {
      "cell_type": "code",
      "metadata": {
        "id": "83AY6vMjP6O3",
        "colab_type": "code",
        "colab": {
          "base_uri": "https://localhost:8080/",
          "height": 1000
        },
        "outputId": "3f718a66-bb0c-482d-b6ee-e1fdf0bd15b9"
      },
      "source": [
        "# Train on Data \n",
        "\n",
        "model.fit(x,y,epochs=50,verbose=1) # Ecophs Can be Cosidered as Arbitary Cutoff"
      ],
      "execution_count": null,
      "outputs": [
        {
          "output_type": "stream",
          "text": [
            "Epoch 1/50\n",
            "100/100 [==============================] - 0s 80us/step - loss: 3541.9452\n",
            "Epoch 2/50\n",
            "100/100 [==============================] - 0s 103us/step - loss: 3532.2761\n",
            "Epoch 3/50\n",
            "100/100 [==============================] - 0s 81us/step - loss: 3521.7497\n",
            "Epoch 4/50\n",
            "100/100 [==============================] - 0s 80us/step - loss: 3511.6753\n",
            "Epoch 5/50\n",
            "100/100 [==============================] - 0s 67us/step - loss: 3501.5338\n",
            "Epoch 6/50\n",
            "100/100 [==============================] - 0s 66us/step - loss: 3490.7023\n",
            "Epoch 7/50\n",
            "100/100 [==============================] - 0s 68us/step - loss: 3479.5042\n",
            "Epoch 8/50\n",
            "100/100 [==============================] - 0s 67us/step - loss: 3468.3898\n",
            "Epoch 9/50\n",
            "100/100 [==============================] - 0s 62us/step - loss: 3457.2340\n",
            "Epoch 10/50\n",
            "100/100 [==============================] - 0s 67us/step - loss: 3445.0400\n",
            "Epoch 11/50\n",
            "100/100 [==============================] - 0s 61us/step - loss: 3431.9102\n",
            "Epoch 12/50\n",
            "100/100 [==============================] - 0s 64us/step - loss: 3418.4500\n",
            "Epoch 13/50\n",
            "100/100 [==============================] - 0s 64us/step - loss: 3403.9867\n",
            "Epoch 14/50\n",
            "100/100 [==============================] - 0s 64us/step - loss: 3389.7852\n",
            "Epoch 15/50\n",
            "100/100 [==============================] - 0s 61us/step - loss: 3375.0734\n",
            "Epoch 16/50\n",
            "100/100 [==============================] - 0s 63us/step - loss: 3359.7641\n",
            "Epoch 17/50\n",
            "100/100 [==============================] - 0s 66us/step - loss: 3344.0887\n",
            "Epoch 18/50\n",
            "100/100 [==============================] - 0s 78us/step - loss: 3328.9575\n",
            "Epoch 19/50\n",
            "100/100 [==============================] - 0s 74us/step - loss: 3312.8331\n",
            "Epoch 20/50\n",
            "100/100 [==============================] - 0s 76us/step - loss: 3296.7573\n",
            "Epoch 21/50\n",
            "100/100 [==============================] - 0s 74us/step - loss: 3280.4685\n",
            "Epoch 22/50\n",
            "100/100 [==============================] - 0s 72us/step - loss: 3264.3452\n",
            "Epoch 23/50\n",
            "100/100 [==============================] - 0s 82us/step - loss: 3246.5089\n",
            "Epoch 24/50\n",
            "100/100 [==============================] - 0s 83us/step - loss: 3228.6735\n",
            "Epoch 25/50\n",
            "100/100 [==============================] - 0s 89us/step - loss: 3211.8703\n",
            "Epoch 26/50\n",
            "100/100 [==============================] - 0s 89us/step - loss: 3193.5636\n",
            "Epoch 27/50\n",
            "100/100 [==============================] - 0s 77us/step - loss: 3176.2426\n",
            "Epoch 28/50\n",
            "100/100 [==============================] - 0s 77us/step - loss: 3158.0874\n",
            "Epoch 29/50\n",
            "100/100 [==============================] - 0s 76us/step - loss: 3139.6638\n",
            "Epoch 30/50\n",
            "100/100 [==============================] - 0s 64us/step - loss: 3119.7918\n",
            "Epoch 31/50\n",
            "100/100 [==============================] - 0s 65us/step - loss: 3100.6952\n",
            "Epoch 32/50\n",
            "100/100 [==============================] - 0s 72us/step - loss: 3079.5259\n",
            "Epoch 33/50\n",
            "100/100 [==============================] - 0s 67us/step - loss: 3058.5839\n",
            "Epoch 34/50\n",
            "100/100 [==============================] - 0s 70us/step - loss: 3036.0606\n",
            "Epoch 35/50\n",
            "100/100 [==============================] - 0s 83us/step - loss: 3014.1761\n",
            "Epoch 36/50\n",
            "100/100 [==============================] - 0s 83us/step - loss: 2991.8265\n",
            "Epoch 37/50\n",
            "100/100 [==============================] - 0s 87us/step - loss: 2967.2568\n",
            "Epoch 38/50\n",
            "100/100 [==============================] - 0s 73us/step - loss: 2944.4973\n",
            "Epoch 39/50\n",
            "100/100 [==============================] - 0s 73us/step - loss: 2920.8150\n",
            "Epoch 40/50\n",
            "100/100 [==============================] - 0s 61us/step - loss: 2897.4525\n",
            "Epoch 41/50\n",
            "100/100 [==============================] - 0s 64us/step - loss: 2873.6266\n",
            "Epoch 42/50\n",
            "100/100 [==============================] - 0s 65us/step - loss: 2848.3271\n",
            "Epoch 43/50\n",
            "100/100 [==============================] - 0s 91us/step - loss: 2823.3161\n",
            "Epoch 44/50\n",
            "100/100 [==============================] - 0s 69us/step - loss: 2795.9422\n",
            "Epoch 45/50\n",
            "100/100 [==============================] - 0s 69us/step - loss: 2770.6112\n",
            "Epoch 46/50\n",
            "100/100 [==============================] - 0s 70us/step - loss: 2743.7069\n",
            "Epoch 47/50\n",
            "100/100 [==============================] - 0s 73us/step - loss: 2717.1788\n",
            "Epoch 48/50\n",
            "100/100 [==============================] - 0s 74us/step - loss: 2688.9453\n",
            "Epoch 49/50\n",
            "100/100 [==============================] - 0s 112us/step - loss: 2660.1102\n",
            "Epoch 50/50\n",
            "100/100 [==============================] - 0s 70us/step - loss: 2631.9231\n"
          ],
          "name": "stdout"
        },
        {
          "output_type": "execute_result",
          "data": {
            "text/plain": [
              "<keras.callbacks.callbacks.History at 0x7fcbe4d75eb8>"
            ]
          },
          "metadata": {
            "tags": []
          },
          "execution_count": 11
        }
      ]
    },
    {
      "cell_type": "code",
      "metadata": {
        "id": "goHNMXoNQWzQ",
        "colab_type": "code",
        "colab": {}
      },
      "source": [
        "x_for_predictions = np.linspace(0,50,100)"
      ],
      "execution_count": null,
      "outputs": []
    },
    {
      "cell_type": "code",
      "metadata": {
        "id": "hslKaMwYQr1Y",
        "colab_type": "code",
        "colab": {}
      },
      "source": [
        "y_predict = model.predict(x_for_predictions)"
      ],
      "execution_count": null,
      "outputs": []
    },
    {
      "cell_type": "code",
      "metadata": {
        "id": "QuFnaXWEQyqv",
        "colab_type": "code",
        "colab": {
          "base_uri": "https://localhost:8080/",
          "height": 283
        },
        "outputId": "2c08b83d-fb1c-46c8-a97c-150c05650db8"
      },
      "source": [
        "# Original One\n",
        "\n",
        "plt.plot(x,y,'*')\n",
        "\n",
        "# Newly Created Model\n",
        "\n",
        "plt.plot(x_for_predictions,y_predict,'g')"
      ],
      "execution_count": null,
      "outputs": [
        {
          "output_type": "execute_result",
          "data": {
            "text/plain": [
              "[<matplotlib.lines.Line2D at 0x7fcbeb9e9470>]"
            ]
          },
          "metadata": {
            "tags": []
          },
          "execution_count": 14
        },
        {
          "output_type": "display_data",
          "data": {
            "image/png": "[encoded data removed]",
            "text/plain": [
              "<Figure size 432x288 with 1 Axes>"
            ]
          },
          "metadata": {
            "tags": [],
            "needs_background": "light"
          }
        }
      ]
    }
  ]
}